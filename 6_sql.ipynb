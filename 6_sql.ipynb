{
 "cells": [
  {
   "cell_type": "markdown",
   "metadata": {},
   "source": [
    "## Q-1. Write an SQL query to print details of the Workers who have joined in Feb’2014."
   ]
  },
  {
   "cell_type": "markdown",
   "metadata": {},
   "source": [
    "Select * from Worker WHERE YEAR(JOINING_DATE) = 2014 and MONTH(JOINING_DATE) = 2;"
   ]
  },
  {
   "cell_type": "markdown",
   "metadata": {},
   "source": [
    "## Q-2. Write an SQL query to fetch duplicate records having matching data in some fields of a table."
   ]
  },
  {
   "cell_type": "markdown",
   "metadata": {},
   "source": [
    "SELECT COLUMN_1, COLUMN_2, COUNT(*)\n",
    "\n",
    "From Worker\n",
    "\n",
    "GROUP BY COLUMN_1, COLUMN_2\n",
    "\n",
    "HAVING COUNT(*) > 1;"
   ]
  },
  {
   "cell_type": "markdown",
   "metadata": {},
   "source": [
    "## Q-3. How to remove duplicate rows from Employees table."
   ]
  },
  {
   "cell_type": "markdown",
   "metadata": {},
   "source": [
    "create table Employees\n",
    "\n",
    "(\n",
    "\n",
    "  emp_id int,\n",
    "\n",
    "  first_name varchar(20),\n",
    "\n",
    "  email varchar(100)\n",
    "\n",
    ");\n",
    "\n",
    "INSERT INTO Employees VALUES(1,'Abhi','xyz@gmail.com');\n",
    "\n",
    "INSERT INTO Employees VALUES(2,'Abhi','xyz@gmail.com');\n",
    "\n",
    "INSERT INTO Employees VALUES(3,'Sam','xyzab@gmail.com');\n",
    "\n",
    "INSERT INTO Employees VALUES(4,'Sid','abc@gmail.com');\n",
    "\n",
    "INSERT INTO Employees VALUES(6,'Sid','abc@gmail.com');\n",
    "\n",
    "INSERT INTO Employees VALUES(7,'Sam','xyzab@gmail.com');\n",
    "\n",
    "DELETE e1 FROM Employees e1, Employees e2 WHERE e1.id > e2.id AND e1.name = e2.first_name AND e1.email = e2.email;\n",
    "\n",
    "select * FROM Employees;"
   ]
  },
  {
   "cell_type": "code",
   "execution_count": null,
   "metadata": {},
   "outputs": [],
   "source": []
  }
 ],
 "metadata": {
  "kernelspec": {
   "display_name": "Python 3",
   "language": "python",
   "name": "python3"
  },
  "language_info": {
   "codemirror_mode": {
    "name": "ipython",
    "version": 3
   },
   "file_extension": ".py",
   "mimetype": "text/x-python",
   "name": "python",
   "nbconvert_exporter": "python",
   "pygments_lexer": "ipython3",
   "version": "3.8.5"
  }
 },
 "nbformat": 4,
 "nbformat_minor": 4
}
